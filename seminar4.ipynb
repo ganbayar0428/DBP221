{
 "cells": [
  {
   "cell_type": "code",
   "execution_count": 71,
   "id": "9c1e4d71",
   "metadata": {},
   "outputs": [
    {
     "name": "stdout",
     "output_type": "stream",
     "text": [
      "[50 51 52 53 54 55 56 57 58 59 60 61 62 63 64 65 66 67 68 69 70 71 72 73\n",
      " 74 75 76 77 78 79 80 81 82 83 84 85 86 87 88 89 90 91 92 93 94 95 96 97\n",
      " 98 99]\n"
     ]
    }
   ],
   "source": [
    "import numpy as np\n",
    "a = np.arange(50,100)\n",
    "print(a)\n"
   ]
  },
  {
   "cell_type": "code",
   "execution_count": 34,
   "id": "d53265d0",
   "metadata": {},
   "outputs": [
    {
     "name": "stdout",
     "output_type": "stream",
     "text": [
      "[1 1 1 1 1 1 1 1 1 1 0 0 0 0 0 0 0 0 0 0 6 6 6 6 6 6 6 6 6 6]\n"
     ]
    }
   ],
   "source": [
    "a = np.array([1,0,6])\n",
    "b = np.repeat(a,10)\n",
    "print(b)"
   ]
  },
  {
   "cell_type": "code",
   "execution_count": 37,
   "id": "1cc6081b",
   "metadata": {},
   "outputs": [
    {
     "name": "stdout",
     "output_type": "stream",
     "text": [
      "[[20 21 22 23]\n",
      " [24 25 26 27]\n",
      " [28 29 30 31]]\n"
     ]
    }
   ],
   "source": [
    "a = np.arange(20,32)\n",
    "b = a.reshape(3,4)\n",
    "print(b)"
   ]
  },
  {
   "cell_type": "code",
   "execution_count": 36,
   "id": "471f91a1",
   "metadata": {},
   "outputs": [
    {
     "name": "stdout",
     "output_type": "stream",
     "text": [
      "[[1. 0. 0.]\n",
      " [0. 1. 0.]\n",
      " [0. 0. 1.]]\n"
     ]
    }
   ],
   "source": [
    "a = np.identity(3)\n",
    "print(a)"
   ]
  },
  {
   "cell_type": "code",
   "execution_count": 65,
   "id": "aee2c022",
   "metadata": {},
   "outputs": [
    {
     "name": "stdout",
     "output_type": "stream",
     "text": [
      "[[0. 0. 0. 0. 0.]\n",
      " [0. 0. 0. 0. 0.]\n",
      " [0. 0. 0. 0. 0.]\n",
      " [0. 0. 0. 0. 0.]\n",
      " [0. 0. 0. 0. 0.]]\n",
      "[[1. 0. 0. 0. 0.]\n",
      " [0. 2. 0. 0. 0.]\n",
      " [0. 0. 3. 0. 0.]\n",
      " [0. 0. 0. 4. 0.]\n",
      " [0. 0. 0. 0. 5.]]\n"
     ]
    }
   ],
   "source": [
    "a = np.zeros((5,5))\n",
    "print(a)\n",
    "i = 0\n",
    "for i in range(5):\n",
    "    a[i,i] = a[i,i] + (i+1)\n",
    "print(a)"
   ]
  },
  {
   "cell_type": "code",
   "execution_count": 70,
   "id": "b35a20c0",
   "metadata": {},
   "outputs": [
    {
     "name": "stdout",
     "output_type": "stream",
     "text": [
      "30\n",
      "[ 2  4  6  8 10]\n",
      "[15 15]\n"
     ]
    }
   ],
   "source": [
    "a = np.array([[1,2,3,4,5],[1,2,3,4,5]])\n",
    "Sum = np.sum(a)\n",
    "Sumrow = np.sum(a,axis=0)\n",
    "Sumcol = np.sum(a,axis=1)\n",
    "print(Sum)\n",
    "print(Sumrow)\n",
    "print(Sumcol)"
   ]
  },
  {
   "cell_type": "code",
   "execution_count": 76,
   "id": "780d7547",
   "metadata": {},
   "outputs": [
    {
     "name": "stdout",
     "output_type": "stream",
     "text": [
      "[355758987 323403214 293071633 491158231 244953823 207611033 182286602\n",
      " 126149915  96571298  93982384]\n",
      "[290714269 324697652 442557345 216582148  69572651 190452522 289255977\n",
      " 150736481 231505983 208872092]\n",
      "[508 590 568 595 644 568 628 657 610 545]\n",
      "[607 648 581 551 321 708 692 585 682 538]\n",
      "[4627 5159 5169 5252 5618 5081 5345 5140 4518 4054]\n",
      "[5465 6516 5431 3799 3004 5762 5809 4517 5687 3973]\n"
     ]
    }
   ],
   "source": [
    "#Salary\n",
    "StephenCurry_S= [9887642,10629213,11370786,12112359,34682500,37457154,40231758,40491877,45780966,48070014]\n",
    "LebronJames_S = [44474988,41180544,39219566,37436845,35454150,33285709,30963450,22970500,20644400,19067500]\n",
    "AnthonyDavis_S = [37980720,35361360,32742000,247093019,25434263,23775503,22116750,7070730,5607240,5375760]\n",
    "JimmyButler_S = [37653300,36016200,34379100,32742000,19841627,18696918,17552209,16407500,2119214,1174080]\n",
    "LukaDoncic_S = [37096500,10174391,8049360,7683360,6569040,0,0,0,0,0]\n",
    "GiannisAntetokounmpo_S = [42492492,39344900,27528088,25842697,24157304,22471911,2995410,1953960,1873200,1792560]\n",
    "JamesHarden_S = [33000000,44310840,44254920,38199000,30570000,28299399,26540100,15719062,14693906,13668750]\n",
    "NikolaJokic_S = [33047803,31044906,29542010,27504630,25467250,1471382,1358500,1300000,0,0]\n",
    "DamianLillard_S = [42492492,39344900,31626953,29802321,27977689,26153057,23328425,4236286,3340940,3202920]\n",
    "TobiasHarris_S = [37633050,35995960,34358850,32742000,14800000,16000000,17200000,16000000,2511432,1630800]\n",
    "Salary = np.array([StephenCurry_S,LebronJames_S,AnthonyDavis_S,JimmyButler_S,LukaDoncic_S,GiannisAntetokounmpo_S,JamesHarden_S,NikolaJokic_S,DamianLillard_S,TobiasHarris_S])\n",
    "#Games\n",
    "StephenCurry_G = [40,64,63,5,69,51,79,79,80,77]\n",
    "LebronJames_G = [47,56,45,67,55,82,74,76,69,77]\n",
    "AnthonyDavis_G = [41,40,36,62,56,75,75,61,68,67]\n",
    "JimmyButler_G = [52,57,52,58,55,10,59,76,67,65]\n",
    "LukaDoncic_G = [57,65,66,61,72,0,0,0,0,0]\n",
    "GiannisAntetokounmpo_G = [52,67,61,63,72,75,80,80,81,77]\n",
    "JamesHarden_G = [48,65,44,68,78,72,81,82,81,73]\n",
    "NikolaJokic_G = [58,74,72,73,80,75,73,80,0,0]\n",
    "DamianLillard_G = [53,29,67,66,80,73,75,75,82,82]\n",
    "TobiasHarris_G = [60,73,62,72,27,55,32,48,82,27]\n",
    "Games = np.array([StephenCurry_G,LebronJames_G,AnthonyDavis_G,JimmyButler_G,LukaDoncic_G,GiannisAntetokounmpo_G,JamesHarden_G,NikolaJokic_G,DamianLillard_G,TobiasHarris_G])\n",
    "#Goals\n",
    "StephenCurry_FG = [394,535,658,33,632,428,675,805,653,652]\n",
    "LebronJames_FG = [532,640,422,643,558,857,736,737,624,767]\n",
    "AnthonyDavis_FG = [405,370,301,551,530,780,770,560,642,522]\n",
    "JimmyButler_FG = [374,398,366,345,344,74,437,570,470,421]\n",
    "LukaDoncic_FG = [629,641,647,581,506,0,0,0,0,0]\n",
    "GiannisAntetokounmpo_FG = [574,689,626,685,721,742,656,513,383,173]\n",
    "JamesHarden_FG = [316,407,342,672,843,651,674,710,645,549]\n",
    "NikolaJokic_FG = [535,764,732,565,616,504,494,307,0,0]\n",
    "DamianLillard_FG = [515,222,602,624,681,621,661,618,590,553]\n",
    "TobiasHarris_FG = [353,493,473,553,187,424,242,320,511,417]\n",
    "Goals = np.array([StephenCurry_FG,LebronJames_FG,AnthonyDavis_FG,JimmyButler_FG,LukaDoncic_FG,GiannisAntetokounmpo_FG,JamesHarden_FG,NikolaJokic_FG,DamianLillard_FG,TobiasHarris_FG])\n",
    "\n",
    "SalaryRow = np.sum(Salary,axis=0)\n",
    "SalaryCol = np.sum(Salary,axis=1)\n",
    "GamesRow = np.sum(Games,axis=0)\n",
    "GamesCol = np.sum(Games,axis=1)\n",
    "GoalsRow = np.sum(Goals,axis=0)\n",
    "GoalsCol = np.sum(Goals,axis=1)\n",
    "print(######Salary)\n",
    "print(SalaryRow)\n",
    "print(SalaryCol)\n",
    "print(######Games)\n",
    "print(GamesRow)\n",
    "print(GamesCol)\n",
    "print(######Goals)\n",
    "print(GoalsRow)\n",
    "print(GoalsCol)"
   ]
  },
  {
   "cell_type": "code",
   "execution_count": null,
   "id": "62c53498",
   "metadata": {},
   "outputs": [],
   "source": []
  }
 ],
 "metadata": {
  "kernelspec": {
   "display_name": "Python 3 (ipykernel)",
   "language": "python",
   "name": "python3"
  },
  "language_info": {
   "codemirror_mode": {
    "name": "ipython",
    "version": 3
   },
   "file_extension": ".py",
   "mimetype": "text/x-python",
   "name": "python",
   "nbconvert_exporter": "python",
   "pygments_lexer": "ipython3",
   "version": "3.11.2"
  }
 },
 "nbformat": 4,
 "nbformat_minor": 5
}
